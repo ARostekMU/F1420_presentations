{
 "cells": [
  {
   "cell_type": "code",
   "execution_count": 5,
   "metadata": {},
   "outputs": [
    {
     "name": "stdout",
     "output_type": "stream",
     "text": [
      "4 3\n",
      "8 6\n"
     ]
    }
   ],
   "source": [
    "class Vector:\n",
    "    x = 4\n",
    "    y = 3\n",
    "\n",
    "    def scale(self, factor):\n",
    "        self.x = self.x * factor\n",
    "        self.y = self.y * factor\n",
    "\n",
    "v = Vector()\n",
    "print(v.x, v.y) # 4 3\n",
    "\n",
    "v.scale(2)\n",
    "print(v.x, v.y) # 8 6\n"
   ]
  },
  {
   "cell_type": "code",
   "execution_count": 7,
   "metadata": {},
   "outputs": [
    {
     "name": "stdout",
     "output_type": "stream",
     "text": [
      "1.0 3.0\n"
     ]
    }
   ],
   "source": [
    "class Vector:\n",
    "    def __init__(self, x, y):\n",
    "        self.x = x\n",
    "        self.y = y\n",
    "\n",
    "v = Vector(1.0, 3.0)\n",
    "print(v.x, v.y)"
   ]
  },
  {
   "cell_type": "code",
   "execution_count": 11,
   "metadata": {},
   "outputs": [
    {
     "name": "stdout",
     "output_type": "stream",
     "text": [
      "0.0 6.0\n"
     ]
    }
   ],
   "source": [
    "class Vector:\n",
    "    def __init__(self, x, y):\n",
    "        self.x = x\n",
    "        self.y = y\n",
    "\n",
    "    def __add__(self, other):\n",
    "        x_new = self.x + other.x\n",
    "        y_new = self.y + other.y\n",
    "        return Vector(x_new, y_new)\n",
    "\n",
    "    def scale(self, factor):\n",
    "        self.x = self.x * factor\n",
    "        self.y = self.y * factor\n",
    "\n",
    "v1 = Vector(1.0, 3.0)\n",
    "v2 = Vector(-1.0, 3.0)\n",
    "v3 = v1 + v2\n",
    "print(v3.x, v3.y) # 0.0 6.0"
   ]
  },
  {
   "cell_type": "code",
   "execution_count": 12,
   "metadata": {},
   "outputs": [
    {
     "name": "stdout",
     "output_type": "stream",
     "text": [
      "['__add__', '__class__', '__delattr__', '__dict__', '__dir__', '__doc__', '__eq__', '__format__', '__ge__', '__getattribute__', '__getstate__', '__gt__', '__hash__', '__init__', '__init_subclass__', '__le__', '__lt__', '__module__', '__ne__', '__new__', '__reduce__', '__reduce_ex__', '__repr__', '__setattr__', '__sizeof__', '__str__', '__subclasshook__', '__weakref__', 'scale', 'x', 'y']\n"
     ]
    }
   ],
   "source": [
    "v = Vector(1, 2)\n",
    "print(dir(v))"
   ]
  },
  {
   "cell_type": "code",
   "execution_count": 25,
   "metadata": {},
   "outputs": [
    {
     "name": "stdout",
     "output_type": "stream",
     "text": [
      "1.0 3.0\n",
      "4.0 12.0\n"
     ]
    }
   ],
   "source": [
    "class Vector:\n",
    "    def __init__(self, x, y):\n",
    "        self.x = x\n",
    "        self.y = y\n",
    "\n",
    "    def __add__(self, other):\n",
    "        x_new = self.x + other.x\n",
    "        y_new = self.y + other.y\n",
    "        return Vector(x_new, y_new)\n",
    "\n",
    "    def __mul__(self, other):\n",
    "        self.x = self.x * other\n",
    "        self.y = self.y * other\n",
    "\n",
    "\n",
    "v = Vector(1.0, 3.0)\n",
    "print(v.x, v.y)\n",
    "v * 4\n",
    "print(v.x, v.y)"
   ]
  },
  {
   "cell_type": "code",
   "execution_count": 35,
   "metadata": {},
   "outputs": [
    {
     "name": "stdout",
     "output_type": "stream",
     "text": [
      "2 5\n",
      "m/s\n"
     ]
    }
   ],
   "source": [
    "class VectorQuantity(Vector):\n",
    "    unit = 'm/s'\n",
    "\n",
    "v = VectorQuantity(2, 5)\n",
    "print(v.x, v.y) # 2 5\n",
    "print(v.unit) # m/s"
   ]
  },
  {
   "cell_type": "code",
   "execution_count": 45,
   "metadata": {},
   "outputs": [
    {
     "name": "stdout",
     "output_type": "stream",
     "text": [
      "2 5\n",
      "m/s\n"
     ]
    }
   ],
   "source": [
    "class VectorQuantity(Vector):\n",
    "    def __init__(self, x, y, unit):\n",
    "        Vector.__init__(self, x, y) # inicializácia rodiča\n",
    "        self.unit = unit\n",
    "\n",
    "v = VectorQuantity(2, 5, 'm/s')\n",
    "print(v.x, v.y) # 2 5\n",
    "print(v.unit) # m/s"
   ]
  },
  {
   "cell_type": "code",
   "execution_count": 52,
   "metadata": {},
   "outputs": [],
   "source": [
    "class Particle:\n",
    "    def __init__(self, mass):\n",
    "        self.mass = mass\n",
    "\n",
    "class ChargedParticle(Particle):\n",
    "    def __init__(self, mass, charge):\n",
    "        Particle.__init__(self, mass)\n",
    "        self.charge = charge\n",
    "\n",
    "p = Particle(1e-27)\n",
    "print(p.mass)\n",
    "cp = ChargedParticle(1.67e-27, 1.6e-19)\n",
    "print(cp.charge)"
   ]
  },
  {
   "cell_type": "code",
   "execution_count": 2,
   "metadata": {},
   "outputs": [
    {
     "name": "stdout",
     "output_type": "stream",
     "text": [
      "[0, 4, 16, 36, 64]\n"
     ]
    }
   ],
   "source": [
    "lst = []\n",
    "\n",
    "for i in range(10):\n",
    "    if i % 2 == 0:\n",
    "        lst.append(i**2)\n",
    "\n",
    "print(lst)"
   ]
  },
  {
   "cell_type": "code",
   "execution_count": 4,
   "metadata": {},
   "outputs": [
    {
     "name": "stdout",
     "output_type": "stream",
     "text": [
      "[0, 4, 16, 36, 64]\n"
     ]
    }
   ],
   "source": [
    "lst = [i**2 for i in range(10) if i % 2 == 0]\n",
    "print(lst)"
   ]
  },
  {
   "cell_type": "code",
   "execution_count": 1,
   "metadata": {},
   "outputs": [
    {
     "name": "stdout",
     "output_type": "stream",
     "text": [
      "5e-27\n"
     ]
    }
   ],
   "source": [
    "from particle import Particle\n",
    "\n",
    "p = Particle(5e-27)\n",
    "print(p.mass)"
   ]
  },
  {
   "cell_type": "code",
   "execution_count": 2,
   "metadata": {},
   "outputs": [
    {
     "name": "stdout",
     "output_type": "stream",
     "text": [
      "Help on built-in function len in module builtins:\n",
      "\n",
      "len(obj, /)\n",
      "    Return the number of items in a container.\n",
      "\n"
     ]
    }
   ],
   "source": [
    "help(len)"
   ]
  },
  {
   "cell_type": "code",
   "execution_count": 5,
   "metadata": {},
   "outputs": [
    {
     "name": "stdout",
     "output_type": "stream",
     "text": [
      "Help on function is_prime in module __main__:\n",
      "\n",
      "is_prime(x)\n",
      "    Determines whether a number is a prime number.\n",
      "    - Input: `x` - a positive integer.\n",
      "    - Output: `True` or `False`.\n",
      "\n"
     ]
    }
   ],
   "source": [
    "def is_prime(x):\n",
    "    \"\"\"Determines whether a number is a prime number.\n",
    "    - Input: `x` - a positive integer.\n",
    "    - Output: `True` or `False`.\n",
    "    \"\"\"\n",
    "    if x == 1:\n",
    "        return False\n",
    "    for i in range(2, x):\n",
    "        if x % i == 0:\n",
    "            return False\n",
    "    return True\n",
    "\n",
    "help(is_prime)"
   ]
  },
  {
   "cell_type": "code",
   "execution_count": 7,
   "metadata": {},
   "outputs": [
    {
     "name": "stdout",
     "output_type": "stream",
     "text": [
      "<class 'tuple'>\n",
      "1\n",
      "a\n",
      "5\n"
     ]
    }
   ],
   "source": [
    "def print_args(*args):\n",
    "    print(type(args)) # tuple\n",
    "    for i in args:\n",
    "        print(i)\n",
    "\n",
    "print_args(1, 'a', 5)"
   ]
  },
  {
   "cell_type": "code",
   "execution_count": 10,
   "metadata": {},
   "outputs": [
    {
     "name": "stdout",
     "output_type": "stream",
     "text": [
      "[1, 2, 3, 4, 'abc']\n"
     ]
    }
   ],
   "source": [
    "def add_to_list(lst, *args):\n",
    "    for i in args:\n",
    "        lst.append(i)\n",
    "    print(lst)\n",
    "\n",
    "x = [1, 2]\n",
    "add_to_list(x, 3, 4, 'abc')"
   ]
  },
  {
   "cell_type": "code",
   "execution_count": 11,
   "metadata": {},
   "outputs": [
    {
     "name": "stdout",
     "output_type": "stream",
     "text": [
      "<class 'dict'>\n",
      "a 1\n",
      "b 2\n",
      "c red\n"
     ]
    }
   ],
   "source": [
    "def print_kwargs(**kwargs):\n",
    "    print(type(kwargs)) # dict\n",
    "    for i in kwargs:\n",
    "        print(i, kwargs[i])\n",
    "\n",
    "print_kwargs(a=1, b=2, c='red')"
   ]
  }
 ],
 "metadata": {
  "kernelspec": {
   "display_name": "Python 3",
   "language": "python",
   "name": "python3"
  },
  "language_info": {
   "codemirror_mode": {
    "name": "ipython",
    "version": 3
   },
   "file_extension": ".py",
   "mimetype": "text/x-python",
   "name": "python",
   "nbconvert_exporter": "python",
   "pygments_lexer": "ipython3",
   "version": "3.11.1"
  },
  "orig_nbformat": 4
 },
 "nbformat": 4,
 "nbformat_minor": 2
}
