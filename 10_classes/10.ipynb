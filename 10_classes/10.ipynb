{
 "cells": [
  {
   "cell_type": "code",
   "execution_count": 17,
   "metadata": {},
   "outputs": [
    {
     "name": "stdout",
     "output_type": "stream",
     "text": [
      "4 3\n",
      "5.0\n"
     ]
    }
   ],
   "source": [
    "class Point:\n",
    "    x = 4\n",
    "    y = 3\n",
    "\n",
    "    def get_distance_from_origin(self):\n",
    "        return (self.x**2 + self.y**2)**0.5\n",
    "\n",
    "p = Point()\n",
    "print(p.x, p.y) # 4 3\n",
    "print(p.get_distance_from_origin()) # 5.0\n"
   ]
  }
 ],
 "metadata": {
  "kernelspec": {
   "display_name": "Python 3",
   "language": "python",
   "name": "python3"
  },
  "language_info": {
   "codemirror_mode": {
    "name": "ipython",
    "version": 3
   },
   "file_extension": ".py",
   "mimetype": "text/x-python",
   "name": "python",
   "nbconvert_exporter": "python",
   "pygments_lexer": "ipython3",
   "version": "3.11.1"
  },
  "orig_nbformat": 4
 },
 "nbformat": 4,
 "nbformat_minor": 2
}
