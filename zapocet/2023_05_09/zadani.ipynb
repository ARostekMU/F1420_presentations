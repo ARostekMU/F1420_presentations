{
 "cells": [
  {
   "attachments": {},
   "cell_type": "markdown",
   "metadata": {},
   "source": [
    "### Úkol 1 (3 b)\n",
    "\n",
    "Napište funkci `count_lines`, která:\n",
    "1. otevře textový soubor (0,5 b)\n",
    "2. vypíše, kolik řádků soubor obsahuje (1,0 b)\n",
    "3. vypíše počet řádků začínajících písmenem, které zvolí uživatel při volání funkce (1,0 b)\n",
    "4. zavře soubor (0,5 b)\n",
    "\n",
    "Funkci by mělo být možné zavolat takto:\n",
    "```\n",
    "count_lines('poem.txt', 'N')\n",
    "```\n",
    "V tomto případě otevíráme soubor `poem.txt` a počítáme řádky začínající písmenem `N`.\n",
    "Soubor pro testování funkce si stáhněte z IS."
   ]
  },
  {
   "cell_type": "code",
   "execution_count": null,
   "metadata": {},
   "outputs": [],
   "source": []
  },
  {
   "attachments": {},
   "cell_type": "markdown",
   "metadata": {},
   "source": [
    "### Úkol 2. (2 b)\n",
    "\n",
    "Napište funkci `swap`, která bere slovník jako vstup, a vrátí nový slovník, kde prohodí klíče a hodnoty. (1,5 b)\n",
    "\n",
    "Funkci otestujte (zavolejte) na slovníku {'a': 1, 'b': 2, 'c': 3}, tzn takto:\n",
    "```\n",
    "slovnik = {'a': 1, 'b':2, 'c':3}\n",
    "novy_slovnik = swap(slovnik)\n",
    "```\n",
    "\n",
    "Poté se ujistěte, že se opravdu jedná o nový slovník (a ne pouze změněný původní slovník). (0,5 b)"
   ]
  },
  {
   "cell_type": "code",
   "execution_count": null,
   "metadata": {},
   "outputs": [],
   "source": []
  },
  {
   "attachments": {},
   "cell_type": "markdown",
   "metadata": {},
   "source": [
    "### Úkol 3 (2 b)\n",
    "\n",
    "1. Vytvořte numpy array, (0,5 b)\n",
    "2. který bude bude obsahovat lichá celá čísla od 1 do 100. (0,5 b)\n",
    "3. Vyberte z něj každé třetí číslo, počínajíc jedničkou (tzn. 1,7,13...) (0,5 b)\n",
    "4. Tyto čísla uložte do souboru `kazde_treti_liche_cislo.txt` (0,5 b)"
   ]
  },
  {
   "cell_type": "code",
   "execution_count": null,
   "metadata": {},
   "outputs": [],
   "source": []
  },
  {
   "attachments": {},
   "cell_type": "markdown",
   "metadata": {},
   "source": [
    "### Úkol 4. (3 b)\n",
    "\n",
    "Napište funkci, která:\n",
    "1. vezme jako input list obsahující stringy (0,5 b)\n",
    "2. a vrátí nový list, (0,5 b)\n",
    "3. jehož elementy obsahují jenom samohlásky z původních stringů. (2 b)\n",
    "\n",
    "Použití by tedy mělo vypadat takto:\n",
    "```\n",
    "seznam = ['toto', 'je', 'list', 'pro', 'ctvrty', 'ukol']\n",
    "print(ukol4(seznam))        # ['oo', 'e', 'i', 'o', 'y', 'uo']\n",
    "```"
   ]
  },
  {
   "cell_type": "code",
   "execution_count": null,
   "metadata": {},
   "outputs": [],
   "source": []
  }
 ],
 "metadata": {
  "kernelspec": {
   "display_name": "Python 3",
   "language": "python",
   "name": "python3"
  },
  "language_info": {
   "codemirror_mode": {
    "name": "ipython",
    "version": 3
   },
   "file_extension": ".py",
   "mimetype": "text/x-python",
   "name": "python",
   "nbconvert_exporter": "python",
   "pygments_lexer": "ipython3",
   "version": "3.11.1"
  },
  "orig_nbformat": 4
 },
 "nbformat": 4,
 "nbformat_minor": 2
}
