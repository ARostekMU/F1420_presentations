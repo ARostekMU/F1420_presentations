{
 "cells": [
  {
   "attachments": {},
   "cell_type": "markdown",
   "metadata": {},
   "source": [
    "### Úkol 1 (3 b)\n",
    "\n",
    "Napište funkci `count_lines`, která:\n",
    "1. otevře textový soubor (0,5 b)\n",
    "2. vypíše, kolik řádků soubor obsahuje (1,0 b)\n",
    "3. vypíše počet řádků začínajících písmenem, které zvolí uživatel při volání funkce (1,0 b)\n",
    "4. zavře soubor (0,5 b)\n",
    "\n",
    "Funkci by mělo být možné zavolat takto:\n",
    "```\n",
    "count_lines('poem.txt', 'N')\n",
    "```\n",
    "V tomto případě otevíráme soubor `poem.txt` a počítáme řádky začínající písmenem `N`.\n",
    "Soubor pro testování funkce si stáhněte z IS."
   ]
  },
  {
   "cell_type": "code",
   "execution_count": 1,
   "metadata": {},
   "outputs": [
    {
     "name": "stdout",
     "output_type": "stream",
     "text": [
      "Soubor poem.txt obsahuje 34 řádků.\n",
      "2 řádků začíná na písmeno N.\n"
     ]
    }
   ],
   "source": [
    "def count_lines(filename, letter):\n",
    "    file = open(filename, 'r')\n",
    "    \n",
    "    count = 0\n",
    "    starts_w_letter_count = 0\n",
    "    for line in file:\n",
    "        starts_w_letter_count += 1\n",
    "        if line[0] == letter:\n",
    "            count += 1\n",
    "\n",
    "    print(f\"Soubor {filename} obsahuje {starts_w_letter_count} řádků.\")\n",
    "    print(f\"{count} řádků začíná na písmeno {letter}.\")\n",
    "    \n",
    "    file.close()\n",
    "\n",
    "count_lines('poem.txt', 'N')"
   ]
  },
  {
   "attachments": {},
   "cell_type": "markdown",
   "metadata": {},
   "source": [
    "### Úkol 2. (2 b)\n",
    "\n",
    "Napište funkci `swap`, která bere slovník jako vstup, a vrátí nový slovník, kde prohodí klíče a hodnoty. (1,5 b)\n",
    "\n",
    "Funkci otestujte (zavolejte) na slovníku {'a': 1, 'b': 2, 'c': 3}, tzn takto:\n",
    "```\n",
    "slovnik = {'a': 1, 'b':2, 'c':3}\n",
    "novy_slovnik = swap(slovnik)\n",
    "```\n",
    "\n",
    "Poté se ujistěte, že se opravdu jedná o nový slovník (a ne pouze změněný původní slovník). (0,5 b)"
   ]
  },
  {
   "cell_type": "code",
   "execution_count": 2,
   "metadata": {},
   "outputs": [
    {
     "name": "stdout",
     "output_type": "stream",
     "text": [
      "Puvodni slovnik:  {'a': 1, 'b': 2, 'c': 3}\n",
      "Novy slovnik:  {1: 'a', 2: 'b', 3: 'c'}\n",
      "Je slovnik nove vytvoren?  True\n"
     ]
    }
   ],
   "source": [
    "def swap(slovnik):\n",
    "    novy_slovnik = {}\n",
    "    for klic, hodnota in slovnik.items():\n",
    "        novy_slovnik[hodnota] = klic\n",
    "    return novy_slovnik\n",
    "\n",
    "# testovani\n",
    "slovnik = {'a': 1, 'b': 2, 'c': 3}\n",
    "novy_slovnik = swap(slovnik)\n",
    "\n",
    "print(\"Puvodni slovnik: \", slovnik)\n",
    "print(\"Novy slovnik: \", novy_slovnik)\n",
    "\n",
    "# kontrola, ze se jedna o novy slovnik\n",
    "print(\"Je slovnik nove vytvoren? \", slovnik is not novy_slovnik)"
   ]
  },
  {
   "attachments": {},
   "cell_type": "markdown",
   "metadata": {},
   "source": [
    "### Úkol 3 (2 b)\n",
    "\n",
    "1. Vytvořte numpy array, (0,5 b)\n",
    "2. který bude bude obsahovat lichá celá čísla od 1 do 100. (0,5 b)\n",
    "3. Vyberte z něj každé třetí číslo, počínajíc jedničkou (tzn. 1,7,13...) (0,5 b)\n",
    "4. Tyto čísla uložte do souboru `kazde_treti_liche_cislo.txt` (0,5 b)"
   ]
  },
  {
   "cell_type": "code",
   "execution_count": 3,
   "metadata": {},
   "outputs": [],
   "source": [
    "import numpy as np\n",
    "\n",
    "# vytvoreni numpy array obsahujici licha cela cisla od 1 do 100\n",
    "array = np.arange(1, 101, 2)\n",
    "\n",
    "# vyber kazdeho tretiho cisla a ulozeni do souboru\n",
    "kazde_treti_liche_cislo = array[::3]\n",
    "np.savetxt(\"kazde_treti_liche_cislo.txt\", kazde_treti_liche_cislo)\n"
   ]
  },
  {
   "attachments": {},
   "cell_type": "markdown",
   "metadata": {},
   "source": [
    "### Úkol 4. (3 b)\n",
    "\n",
    "Napište funkci, která:\n",
    "1. vezme jako input list obsahující stringy (0,5 b)\n",
    "2. a vrátí nový list, (0,5 b)\n",
    "3. jehož elementy obsahují jenom samohlásky z původních stringů. (2 b)\n",
    "\n",
    "Použití by tedy mělo vypadat takto:\n",
    "```\n",
    "seznam = ['toto', 'je', 'list', 'pro', 'ctvrty', 'ukol']\n",
    "print(ukol4(seznam))        # ['oo', 'e', 'i', 'o', 'y', 'uo']\n",
    "```"
   ]
  },
  {
   "cell_type": "code",
   "execution_count": 4,
   "metadata": {},
   "outputs": [
    {
     "name": "stdout",
     "output_type": "stream",
     "text": [
      "['oo', 'e', 'i', 'o', 'y', 'uo']\n"
     ]
    }
   ],
   "source": [
    "def ukol4(seznam):\n",
    "    samohlasky = \"aeiouyAEIOUY\"  # string obsahujici vsechny samohlasky\n",
    "    \n",
    "    # pro kazdy string v seznamu najdeme jeho samohlasky a vlozime do noveho seznamu\n",
    "    novy_seznam = []\n",
    "    for s in seznam:\n",
    "        novy_string = \"\"\n",
    "        for c in s:\n",
    "            if c in samohlasky:\n",
    "                novy_string += c\n",
    "        novy_seznam.append(novy_string)\n",
    "    \n",
    "    return novy_seznam\n",
    "\n",
    "\n",
    "seznam = ['toto', 'je', 'list', 'pro', 'ctvrty', 'ukol']\n",
    "print(ukol4(seznam))"
   ]
  }
 ],
 "metadata": {
  "kernelspec": {
   "display_name": "Python 3",
   "language": "python",
   "name": "python3"
  },
  "language_info": {
   "codemirror_mode": {
    "name": "ipython",
    "version": 3
   },
   "file_extension": ".py",
   "mimetype": "text/x-python",
   "name": "python",
   "nbconvert_exporter": "python",
   "pygments_lexer": "ipython3",
   "version": "3.11.1"
  },
  "orig_nbformat": 4
 },
 "nbformat": 4,
 "nbformat_minor": 2
}
